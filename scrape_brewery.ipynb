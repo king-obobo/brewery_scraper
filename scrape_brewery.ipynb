{
 "cells": [
  {
   "cell_type": "code",
   "execution_count": 1,
   "metadata": {},
   "outputs": [],
   "source": [
    "import requests\n",
    "import pandas as pd"
   ]
  },
  {
   "cell_type": "code",
   "execution_count": 2,
   "metadata": {},
   "outputs": [],
   "source": [
    "res = requests.get(\"https://www.brewersassociation.org/wp-content/themes/ba2019/json-store/breweries/breweries.json?nocache=1728470257243\")"
   ]
  },
  {
   "cell_type": "code",
   "execution_count": 3,
   "metadata": {},
   "outputs": [],
   "source": [
    "data = res.json()"
   ]
  },
  {
   "cell_type": "markdown",
   "metadata": {},
   "source": [
    "## Data needed\n",
    "* Name\n",
    "* Phone\n",
    "* Website\n",
    "* Brewery_Type__c\n",
    "* Is_Craft_Brewery__c\n",
    "* City\n",
    "* State\n",
    "* Street\n",
    "* Member"
   ]
  },
  {
   "cell_type": "code",
   "execution_count": 4,
   "metadata": {},
   "outputs": [],
   "source": [
    "# Defining Functions to extract the data I need\n",
    "def extract_col_data(data, col):\n",
    "    return [i[col] if i[col] is not None else 'Nil' for i in data]\n",
    "\n",
    "def extract_state_data(data, col0, col1):\n",
    "    return [i[col0][col1] if i[col0] is not None else 'Nil' for i in data]"
   ]
  },
  {
   "cell_type": "code",
   "execution_count": 5,
   "metadata": {},
   "outputs": [],
   "source": [
    "company_name = extract_col_data(data, \"Name\")\n",
    "company_phone = extract_col_data(data, 'Phone')\n",
    "company_website = extract_col_data(data, 'Website')\n",
    "company_type = extract_col_data(data, 'Brewery_Type__c')"
   ]
  },
  {
   "cell_type": "code",
   "execution_count": 6,
   "metadata": {},
   "outputs": [],
   "source": [
    "company_city = extract_state_data(data, 'BillingAddress', 'city')\n",
    "company_state = extract_state_data(data, 'BillingAddress', 'state')\n",
    "company_streetCode = extract_state_data(data, 'BillingAddress', 'stateCode')\n",
    "company_street = extract_state_data(data, 'BillingAddress', 'street')"
   ]
  },
  {
   "cell_type": "code",
   "execution_count": 7,
   "metadata": {},
   "outputs": [],
   "source": [
    "my_df = {\n",
    "    'company_name' : company_name,\n",
    "    'company_phone' : company_phone,\n",
    "    'company_website' : company_website,\n",
    "    'company_type' : company_type,\n",
    "    'company_city' : company_city,\n",
    "    'company_state' : company_state,\n",
    "    'company_streetCode' : company_streetCode,\n",
    "    'company_street' : company_street,\n",
    "}"
   ]
  },
  {
   "cell_type": "code",
   "execution_count": 8,
   "metadata": {},
   "outputs": [],
   "source": [
    "df = pd.DataFrame(my_df)"
   ]
  },
  {
   "cell_type": "code",
   "execution_count": 9,
   "metadata": {},
   "outputs": [
    {
     "data": {
      "text/html": [
       "<div>\n",
       "<style scoped>\n",
       "    .dataframe tbody tr th:only-of-type {\n",
       "        vertical-align: middle;\n",
       "    }\n",
       "\n",
       "    .dataframe tbody tr th {\n",
       "        vertical-align: top;\n",
       "    }\n",
       "\n",
       "    .dataframe thead th {\n",
       "        text-align: right;\n",
       "    }\n",
       "</style>\n",
       "<table border=\"1\" class=\"dataframe\">\n",
       "  <thead>\n",
       "    <tr style=\"text-align: right;\">\n",
       "      <th></th>\n",
       "      <th>company_name</th>\n",
       "      <th>company_phone</th>\n",
       "      <th>company_website</th>\n",
       "      <th>company_type</th>\n",
       "      <th>company_city</th>\n",
       "      <th>company_state</th>\n",
       "      <th>company_streetCode</th>\n",
       "      <th>company_street</th>\n",
       "    </tr>\n",
       "  </thead>\n",
       "  <tbody>\n",
       "    <tr>\n",
       "      <th>0</th>\n",
       "      <td>Barley POP! Brewing</td>\n",
       "      <td>(360) 610-6843</td>\n",
       "      <td>Nil</td>\n",
       "      <td>Micro</td>\n",
       "      <td>Marysville</td>\n",
       "      <td>Washington</td>\n",
       "      <td>WA</td>\n",
       "      <td>4715 86th pl ne</td>\n",
       "    </tr>\n",
       "    <tr>\n",
       "      <th>1</th>\n",
       "      <td>El Cid Brewing Company</td>\n",
       "      <td>6198928261</td>\n",
       "      <td>www.elcidbrewing.com</td>\n",
       "      <td>Micro</td>\n",
       "      <td>San Diego</td>\n",
       "      <td>California</td>\n",
       "      <td>CA</td>\n",
       "      <td>2911 El Cajon Blvd # 2</td>\n",
       "    </tr>\n",
       "    <tr>\n",
       "      <th>2</th>\n",
       "      <td>TOCCOA BREWING COMPANY</td>\n",
       "      <td>(678) 577-2122</td>\n",
       "      <td>Nil</td>\n",
       "      <td>Brewery In Planning</td>\n",
       "      <td>GRIFFIN</td>\n",
       "      <td>Georgia</td>\n",
       "      <td>GA</td>\n",
       "      <td>100 BEASLEY ROAD</td>\n",
       "    </tr>\n",
       "    <tr>\n",
       "      <th>3</th>\n",
       "      <td>Trap Door Whistle Stop Pub</td>\n",
       "      <td>(503) 758-2569</td>\n",
       "      <td>Nil</td>\n",
       "      <td>Brewpub</td>\n",
       "      <td>Washougal</td>\n",
       "      <td>Washington</td>\n",
       "      <td>WA</td>\n",
       "      <td>1834 Main St</td>\n",
       "    </tr>\n",
       "    <tr>\n",
       "      <th>4</th>\n",
       "      <td>Inner Groove Brewing</td>\n",
       "      <td>(412) 828-1351</td>\n",
       "      <td>www.innergroovebrewing.com/pittsburgh</td>\n",
       "      <td>Location</td>\n",
       "      <td>Pittsburgh</td>\n",
       "      <td>Pennsylvania</td>\n",
       "      <td>PA</td>\n",
       "      <td>827 E. WARRINGTON AVE.</td>\n",
       "    </tr>\n",
       "  </tbody>\n",
       "</table>\n",
       "</div>"
      ],
      "text/plain": [
       "                 company_name   company_phone  \\\n",
       "0         Barley POP! Brewing  (360) 610-6843   \n",
       "1      El Cid Brewing Company      6198928261   \n",
       "2      TOCCOA BREWING COMPANY  (678) 577-2122   \n",
       "3  Trap Door Whistle Stop Pub  (503) 758-2569   \n",
       "4        Inner Groove Brewing  (412) 828-1351   \n",
       "\n",
       "                         company_website         company_type company_city  \\\n",
       "0                                    Nil                Micro   Marysville   \n",
       "1                   www.elcidbrewing.com                Micro    San Diego   \n",
       "2                                    Nil  Brewery In Planning      GRIFFIN   \n",
       "3                                    Nil              Brewpub    Washougal   \n",
       "4  www.innergroovebrewing.com/pittsburgh             Location   Pittsburgh   \n",
       "\n",
       "  company_state company_streetCode          company_street  \n",
       "0    Washington                 WA         4715 86th pl ne  \n",
       "1    California                 CA  2911 El Cajon Blvd # 2  \n",
       "2       Georgia                 GA        100 BEASLEY ROAD  \n",
       "3    Washington                 WA            1834 Main St  \n",
       "4  Pennsylvania                 PA  827 E. WARRINGTON AVE.  "
      ]
     },
     "execution_count": 9,
     "metadata": {},
     "output_type": "execute_result"
    }
   ],
   "source": [
    "df.head()"
   ]
  },
  {
   "cell_type": "code",
   "execution_count": 12,
   "metadata": {},
   "outputs": [],
   "source": [
    "df.to_csv(\"BreweryData.csv\", index=False)"
   ]
  }
 ],
 "metadata": {
  "kernelspec": {
   "display_name": "Python 3",
   "language": "python",
   "name": "python3"
  },
  "language_info": {
   "codemirror_mode": {
    "name": "ipython",
    "version": 3
   },
   "file_extension": ".py",
   "mimetype": "text/x-python",
   "name": "python",
   "nbconvert_exporter": "python",
   "pygments_lexer": "ipython3",
   "version": "3.11.5"
  }
 },
 "nbformat": 4,
 "nbformat_minor": 2
}
